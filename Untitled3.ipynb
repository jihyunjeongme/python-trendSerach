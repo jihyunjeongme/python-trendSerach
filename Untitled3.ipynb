{
 "cells": [
  {
   "cell_type": "code",
   "execution_count": 29,
   "metadata": {
    "scrolled": true
   },
   "outputs": [
    {
     "data": {
      "text/plain": [
       "<matplotlib.axes._subplots.AxesSubplot at 0x112bdd860>"
      ]
     },
     "execution_count": 29,
     "metadata": {},
     "output_type": "execute_result"
    },
    {
     "data": {
      "image/png": "[encoded data removed]",
      "text/plain": [
       "<Figure size 432x288 with 1 Axes>"
      ]
     },
     "metadata": {
      "needs_background": "light"
     },
     "output_type": "display_data"
    }
   ],
   "source": [
    "import pandas as pd\n",
    "from matplotlib import pyplot as plt\n",
    "\n",
    "df = pd.DataFrame([\n",
    "  {\n",
    "    \"period\": \"2016-06-01\",\n",
    "    \"ratio\": 0.00052\n",
    "  },\n",
    "  {\n",
    "    \"period\": \"2017-04-01\",\n",
    "    \"ratio\": 0.00073\n",
    "  },\n",
    "  {\n",
    "    \"period\": \"2017-05-01\",\n",
    "    \"ratio\": 0.00811\n",
    "  },\n",
    "  {\n",
    "    \"period\": \"2017-08-01\",\n",
    "    \"ratio\": 0.00026\n",
    "  },\n",
    "  {\n",
    "    \"period\": \"2018-02-01\",\n",
    "    \"ratio\": 0.00141\n",
    "  },\n",
    "  {\n",
    "    \"period\": \"2018-03-01\",\n",
    "    \"ratio\": 10.55092\n",
    "  },\n",
    "  {\n",
    "    \"period\": \"2018-04-01\",\n",
    "    \"ratio\": 8.06896\n",
    "  },\n",
    "  {\n",
    "    \"period\": \"2018-05-01\",\n",
    "    \"ratio\": 100\n",
    "  },\n",
    "  {\n",
    "    \"period\": \"2018-06-01\",\n",
    "    \"ratio\": 91.11174\n",
    "  },\n",
    "  {\n",
    "    \"period\": \"2018-07-01\",\n",
    "    \"ratio\": 0.92689\n",
    "  },\n",
    "  {\n",
    "    \"period\": \"2018-08-01\",\n",
    "    \"ratio\": 0.75854\n",
    "  },\n",
    "  {\n",
    "    \"period\": \"2018-09-01\",\n",
    "    \"ratio\": 1.02529\n",
    "  },\n",
    "  {\n",
    "    \"period\": \"2018-10-01\",\n",
    "    \"ratio\": 1.33397\n",
    "  },\n",
    "  {\n",
    "    \"period\": \"2018-11-01\",\n",
    "    \"ratio\": 0.8905\n",
    "  },\n",
    "  {\n",
    "    \"period\": \"2018-12-01\",\n",
    "    \"ratio\": 0.86725\n",
    "  },\n",
    "  {\n",
    "    \"period\": \"2019-01-01\",\n",
    "    \"ratio\": 4.14981\n",
    "  },\n",
    "  {\n",
    "    \"period\": \"2019-02-01\",\n",
    "    \"ratio\": 13.29894\n",
    "  }\n",
    "]\n",
    ")\n",
    "#   , columns=[\"period\",\"ratio\"])\n",
    "\n",
    "\n",
    "df.plot.line()\n"
   ]
  },
  {
   "cell_type": "code",
   "execution_count": 12,
   "metadata": {
    "scrolled": true
   },
   "outputs": [
    {
     "data": {
      "image/png": "[encoded data removed]",
      "text/plain": [
       "<Figure size 432x288 with 1 Axes>"
      ]
     },
     "metadata": {
      "needs_background": "light"
     },
     "output_type": "display_data"
    }
   ],
   "source": [
    "import matplotlib.pyplot as plt\n",
    "\n",
    "radius = [1.0, 2.0, 3.0, 4.0]\n",
    "area = [3.14159, 12.56636, 28.27431, 50.26544]\n",
    "\n",
    "plt.plot(radius, area)\n",
    "plt.show()"
   ]
  },
  {
   "cell_type": "code",
   "execution_count": null,
   "metadata": {},
   "outputs": [],
   "source": []
  }
 ],
 "metadata": {
  "kernelspec": {
   "display_name": "Python 3",
   "language": "python",
   "name": "python3"
  },
  "language_info": {
   "codemirror_mode": {
    "name": "ipython",
    "version": 3
   },
   "file_extension": ".py",
   "mimetype": "text/x-python",
   "name": "python",
   "nbconvert_exporter": "python",
   "pygments_lexer": "ipython3",
   "version": "3.7.1"
  }
 },
 "nbformat": 4,
 "nbformat_minor": 2
}
